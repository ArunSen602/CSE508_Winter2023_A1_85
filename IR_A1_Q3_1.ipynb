{
  "nbformat": 4,
  "nbformat_minor": 0,
  "metadata": {
    "colab": {
      "provenance": []
    },
    "kernelspec": {
      "name": "python3",
      "display_name": "Python 3"
    },
    "language_info": {
      "name": "python"
    }
  },
  "cells": [
    {
      "cell_type": "code",
      "execution_count": null,
      "metadata": {
        "id": "jN59WJEfmUxE",
        "colab": {
          "base_uri": "https://localhost:8080/"
        },
        "outputId": "6a8a88c1-cde2-424e-c8dd-8c8bad1b7935"
      },
      "outputs": [
        {
          "output_type": "stream",
          "name": "stderr",
          "text": [
            "[nltk_data] Downloading package punkt to /root/nltk_data...\n",
            "[nltk_data]   Unzipping tokenizers/punkt.zip.\n",
            "[nltk_data] Downloading package stopwords to /root/nltk_data...\n",
            "[nltk_data]   Unzipping corpora/stopwords.zip.\n"
          ]
        }
      ],
      "source": [
        "import os\n",
        "from zipfile import ZipFile\n",
        "import nltk\n",
        "nltk.download('punkt')\n",
        "nltk.download(\"stopwords\")\n",
        "import re \n",
        "from nltk.corpus import stopwords\n",
        "stop_words=list(stopwords.words(\"english\"))\n",
        "class Bigram_Index:\n",
        "  def __init__(self):\n",
        "    self.index_dict=dict()# dictionary to keep the inverted index\n",
        "    self.token_list=list()# list containing tokens for each doc\n",
        "    self.freq_dict=dict()# storing frequency of each term\n",
        "    self.re=re\n",
        "    self.nltk=nltk\n",
        "    self.nltk.download(\"punkt\")\n",
        "    self.nltk.download(\"stopwords\")\n",
        "    self.stop_words=list(stopwords.words(\"english\"))\n",
        "\n",
        "\n",
        "  def make_bigram(self):\n",
        "    if not(os.path.isdir('temp_dir1')):\n",
        "      os.mkdir('temp_dir1')\n",
        "    with ZipFile(\"/content/CSE508_Winter2023_Dataset2_preprocessed.zip\", 'r') as zObject:    # Extracting all the members of the zip \n",
        "    # into a specific location.\n",
        "      zObject.extractall(path=\"temp_dir1\")\n",
        "    dir_path='/content/temp_dir1/content/temp_dir/CSE508_Winter2023_Dataset'\n",
        "    files_list=os.listdir(dir_path)\n",
        "    file_tok_list=list()\n",
        "    self.mapping_dict=dict()\n",
        "    k=0\n",
        "    for fl in files_list:\n",
        "      fl_path=os.path.join(dir_path,fl)\n",
        "      fobj=open(fl_path,'r')\n",
        "      self.mapping_dict[k]=fl\n",
        "      st=fobj.read()\n",
        "      word_toks=list(nltk.bigrams(st.split(\",\")))\n",
        "      self.token_list.append(word_toks)\n",
        "      fobj.close()\n",
        "      k=k+1\n",
        "\n",
        "  def make_index(self):\n",
        "    fin_token_list=set()\n",
        "    #index_dict=dict()\n",
        "    self.make_bigram()\n",
        "    for toks in self.token_list:\n",
        "      fin_token_list=fin_token_list.union(set(toks))\n",
        "    fin_token_list=list(fin_token_list)\n",
        "    #print(fin_token_list)\n",
        "    for tok in fin_token_list:\n",
        "      self.index_dict[' '.join(tok)]=list()\n",
        "      self.freq_dict[' '.join(tok)]=0\n",
        "    for doc in range(len(self.token_list)):\n",
        "      #print(self.token_list[doc])\n",
        "      for bg in self.token_list[doc]:\n",
        "          #print(bg)\n",
        "          if doc not in self.index_dict[' '.join(bg)]:\n",
        "            self.index_dict[' '.join(bg)].append(doc)\n",
        "          self.freq_dict[' '.join(bg)]=self.freq_dict[' '.join(bg)]+1\n",
        "      myKeys = list(self.index_dict.keys())\n",
        "      myKeys.sort()\n",
        "      self.index_dict = {i: self.index_dict[i] for i in myKeys}    \n",
        "      self.freq_dict={i: self.freq_dict[i] for i in myKeys}    \n",
        "\n",
        "      #index_dict[self.token_list[doc][pos]]\n",
        "    #return self.index_dict\n",
        "\n",
        "  def preprocess_query(self,query):\n",
        "    query = query.lower()\n",
        "    words = self.re.sub('[^\\w\\s]',' ',query)\n",
        "    tokens = self.nltk.word_tokenize(words)\n",
        "    new_tokens = [t for t in tokens if t not in self.stop_words]\n",
        "    words_list = [t for t in new_tokens if t!=' ']\n",
        "    return words_list\n",
        "\n",
        "  def process_query(self,query_text):\n",
        "    q_processed=self.preprocess_query(query_text)\n",
        "    q_toks=list(nltk.bigrams(q_processed))\n",
        "    pos_list_set=set()\n",
        "    for i in range(len(q_toks)):\n",
        "      if ' '.join(q_toks[i]) in self.index_dict.keys():\n",
        "          if i==0:\n",
        "            pos_list_set=pos_list_set.union(set(self.index_dict[' '.join(q_toks[i])]))\n",
        "          else:\n",
        "            pos_list_set=pos_list_set.intersection(set(self.index_dict[' '.join(q_toks[i])]))\n",
        "          doc_names_list=[self.mapping_dict[pos] for pos in pos_list_set]\n",
        "          return pos_list_set,len(pos_list_set),doc_names_list\n",
        "      else:\n",
        "        return {},0,[]\n"
      ]
    },
    {
      "cell_type": "code",
      "source": [
        "from google.colab import files\n",
        "uploads=files.upload()"
      ],
      "metadata": {
        "colab": {
          "base_uri": "https://localhost:8080/",
          "height": 90
        },
        "id": "S5HBxcOP5A9p",
        "outputId": "c032fc3c-1e80-4cb1-9c46-51131e2cd6b3"
      },
      "execution_count": null,
      "outputs": [
        {
          "output_type": "display_data",
          "data": {
            "text/plain": [
              "<IPython.core.display.HTML object>"
            ],
            "text/html": [
              "\n",
              "     <input type=\"file\" id=\"files-a838d9e5-8fec-49b5-a7d7-8c9803dcffab\" name=\"files[]\" multiple disabled\n",
              "        style=\"border:none\" />\n",
              "     <output id=\"result-a838d9e5-8fec-49b5-a7d7-8c9803dcffab\">\n",
              "      Upload widget is only available when the cell has been executed in the\n",
              "      current browser session. Please rerun this cell to enable.\n",
              "      </output>\n",
              "      <script>// Copyright 2017 Google LLC\n",
              "//\n",
              "// Licensed under the Apache License, Version 2.0 (the \"License\");\n",
              "// you may not use this file except in compliance with the License.\n",
              "// You may obtain a copy of the License at\n",
              "//\n",
              "//      http://www.apache.org/licenses/LICENSE-2.0\n",
              "//\n",
              "// Unless required by applicable law or agreed to in writing, software\n",
              "// distributed under the License is distributed on an \"AS IS\" BASIS,\n",
              "// WITHOUT WARRANTIES OR CONDITIONS OF ANY KIND, either express or implied.\n",
              "// See the License for the specific language governing permissions and\n",
              "// limitations under the License.\n",
              "\n",
              "/**\n",
              " * @fileoverview Helpers for google.colab Python module.\n",
              " */\n",
              "(function(scope) {\n",
              "function span(text, styleAttributes = {}) {\n",
              "  const element = document.createElement('span');\n",
              "  element.textContent = text;\n",
              "  for (const key of Object.keys(styleAttributes)) {\n",
              "    element.style[key] = styleAttributes[key];\n",
              "  }\n",
              "  return element;\n",
              "}\n",
              "\n",
              "// Max number of bytes which will be uploaded at a time.\n",
              "const MAX_PAYLOAD_SIZE = 100 * 1024;\n",
              "\n",
              "function _uploadFiles(inputId, outputId) {\n",
              "  const steps = uploadFilesStep(inputId, outputId);\n",
              "  const outputElement = document.getElementById(outputId);\n",
              "  // Cache steps on the outputElement to make it available for the next call\n",
              "  // to uploadFilesContinue from Python.\n",
              "  outputElement.steps = steps;\n",
              "\n",
              "  return _uploadFilesContinue(outputId);\n",
              "}\n",
              "\n",
              "// This is roughly an async generator (not supported in the browser yet),\n",
              "// where there are multiple asynchronous steps and the Python side is going\n",
              "// to poll for completion of each step.\n",
              "// This uses a Promise to block the python side on completion of each step,\n",
              "// then passes the result of the previous step as the input to the next step.\n",
              "function _uploadFilesContinue(outputId) {\n",
              "  const outputElement = document.getElementById(outputId);\n",
              "  const steps = outputElement.steps;\n",
              "\n",
              "  const next = steps.next(outputElement.lastPromiseValue);\n",
              "  return Promise.resolve(next.value.promise).then((value) => {\n",
              "    // Cache the last promise value to make it available to the next\n",
              "    // step of the generator.\n",
              "    outputElement.lastPromiseValue = value;\n",
              "    return next.value.response;\n",
              "  });\n",
              "}\n",
              "\n",
              "/**\n",
              " * Generator function which is called between each async step of the upload\n",
              " * process.\n",
              " * @param {string} inputId Element ID of the input file picker element.\n",
              " * @param {string} outputId Element ID of the output display.\n",
              " * @return {!Iterable<!Object>} Iterable of next steps.\n",
              " */\n",
              "function* uploadFilesStep(inputId, outputId) {\n",
              "  const inputElement = document.getElementById(inputId);\n",
              "  inputElement.disabled = false;\n",
              "\n",
              "  const outputElement = document.getElementById(outputId);\n",
              "  outputElement.innerHTML = '';\n",
              "\n",
              "  const pickedPromise = new Promise((resolve) => {\n",
              "    inputElement.addEventListener('change', (e) => {\n",
              "      resolve(e.target.files);\n",
              "    });\n",
              "  });\n",
              "\n",
              "  const cancel = document.createElement('button');\n",
              "  inputElement.parentElement.appendChild(cancel);\n",
              "  cancel.textContent = 'Cancel upload';\n",
              "  const cancelPromise = new Promise((resolve) => {\n",
              "    cancel.onclick = () => {\n",
              "      resolve(null);\n",
              "    };\n",
              "  });\n",
              "\n",
              "  // Wait for the user to pick the files.\n",
              "  const files = yield {\n",
              "    promise: Promise.race([pickedPromise, cancelPromise]),\n",
              "    response: {\n",
              "      action: 'starting',\n",
              "    }\n",
              "  };\n",
              "\n",
              "  cancel.remove();\n",
              "\n",
              "  // Disable the input element since further picks are not allowed.\n",
              "  inputElement.disabled = true;\n",
              "\n",
              "  if (!files) {\n",
              "    return {\n",
              "      response: {\n",
              "        action: 'complete',\n",
              "      }\n",
              "    };\n",
              "  }\n",
              "\n",
              "  for (const file of files) {\n",
              "    const li = document.createElement('li');\n",
              "    li.append(span(file.name, {fontWeight: 'bold'}));\n",
              "    li.append(span(\n",
              "        `(${file.type || 'n/a'}) - ${file.size} bytes, ` +\n",
              "        `last modified: ${\n",
              "            file.lastModifiedDate ? file.lastModifiedDate.toLocaleDateString() :\n",
              "                                    'n/a'} - `));\n",
              "    const percent = span('0% done');\n",
              "    li.appendChild(percent);\n",
              "\n",
              "    outputElement.appendChild(li);\n",
              "\n",
              "    const fileDataPromise = new Promise((resolve) => {\n",
              "      const reader = new FileReader();\n",
              "      reader.onload = (e) => {\n",
              "        resolve(e.target.result);\n",
              "      };\n",
              "      reader.readAsArrayBuffer(file);\n",
              "    });\n",
              "    // Wait for the data to be ready.\n",
              "    let fileData = yield {\n",
              "      promise: fileDataPromise,\n",
              "      response: {\n",
              "        action: 'continue',\n",
              "      }\n",
              "    };\n",
              "\n",
              "    // Use a chunked sending to avoid message size limits. See b/62115660.\n",
              "    let position = 0;\n",
              "    do {\n",
              "      const length = Math.min(fileData.byteLength - position, MAX_PAYLOAD_SIZE);\n",
              "      const chunk = new Uint8Array(fileData, position, length);\n",
              "      position += length;\n",
              "\n",
              "      const base64 = btoa(String.fromCharCode.apply(null, chunk));\n",
              "      yield {\n",
              "        response: {\n",
              "          action: 'append',\n",
              "          file: file.name,\n",
              "          data: base64,\n",
              "        },\n",
              "      };\n",
              "\n",
              "      let percentDone = fileData.byteLength === 0 ?\n",
              "          100 :\n",
              "          Math.round((position / fileData.byteLength) * 100);\n",
              "      percent.textContent = `${percentDone}% done`;\n",
              "\n",
              "    } while (position < fileData.byteLength);\n",
              "  }\n",
              "\n",
              "  // All done.\n",
              "  yield {\n",
              "    response: {\n",
              "      action: 'complete',\n",
              "    }\n",
              "  };\n",
              "}\n",
              "\n",
              "scope.google = scope.google || {};\n",
              "scope.google.colab = scope.google.colab || {};\n",
              "scope.google.colab._files = {\n",
              "  _uploadFiles,\n",
              "  _uploadFilesContinue,\n",
              "};\n",
              "})(self);\n",
              "</script> "
            ]
          },
          "metadata": {}
        },
        {
          "output_type": "stream",
          "name": "stdout",
          "text": [
            "Saving CSE508_Winter2023_Dataset2_preprocessed.zip to CSE508_Winter2023_Dataset2_preprocessed.zip\n"
          ]
        }
      ]
    },
    {
      "cell_type": "code",
      "source": [
        "bi=Bigram_Index()\n",
        "bi.make_index()"
      ],
      "metadata": {
        "id": "RLxgXkxg5wzN",
        "colab": {
          "base_uri": "https://localhost:8080/"
        },
        "outputId": "4a7412da-6019-43e4-bd14-b238c88cb270"
      },
      "execution_count": null,
      "outputs": [
        {
          "output_type": "stream",
          "name": "stderr",
          "text": [
            "[nltk_data] Downloading package punkt to /root/nltk_data...\n",
            "[nltk_data]   Package punkt is already up-to-date!\n",
            "[nltk_data] Downloading package stopwords to /root/nltk_data...\n",
            "[nltk_data]   Package stopwords is already up-to-date!\n"
          ]
        }
      ]
    },
    {
      "cell_type": "code",
      "source": [
        "\"\"\"import pickle as pkl\n",
        "f1=open(\"bigram_index.pkl\",'wb')\n",
        "pkl.dump(bi,f1)\n",
        "f1.close()\"\"\"\n",
        "from dill import dump,load\n",
        "f3=open(\"bigram_index_dill.pkl\",'wb')\n",
        "dump(bi,f3)\n",
        "f3.close()"
      ],
      "metadata": {
        "id": "I9-k3ir_qlOe"
      },
      "execution_count": null,
      "outputs": []
    },
    {
      "cell_type": "code",
      "source": [
        "#files.download(\"bigram_index.pkl\")\n",
        "files.download(\"bigram_index_dill.pkl\")"
      ],
      "metadata": {
        "colab": {
          "base_uri": "https://localhost:8080/",
          "height": 17
        },
        "id": "hgqVaJm7lJKN",
        "outputId": "ec6e34a2-4fc1-445b-f1f1-3a0a1ada50b3"
      },
      "execution_count": null,
      "outputs": [
        {
          "output_type": "display_data",
          "data": {
            "text/plain": [
              "<IPython.core.display.Javascript object>"
            ],
            "application/javascript": [
              "\n",
              "    async function download(id, filename, size) {\n",
              "      if (!google.colab.kernel.accessAllowed) {\n",
              "        return;\n",
              "      }\n",
              "      const div = document.createElement('div');\n",
              "      const label = document.createElement('label');\n",
              "      label.textContent = `Downloading \"${filename}\": `;\n",
              "      div.appendChild(label);\n",
              "      const progress = document.createElement('progress');\n",
              "      progress.max = size;\n",
              "      div.appendChild(progress);\n",
              "      document.body.appendChild(div);\n",
              "\n",
              "      const buffers = [];\n",
              "      let downloaded = 0;\n",
              "\n",
              "      const channel = await google.colab.kernel.comms.open(id);\n",
              "      // Send a message to notify the kernel that we're ready.\n",
              "      channel.send({})\n",
              "\n",
              "      for await (const message of channel.messages) {\n",
              "        // Send a message to notify the kernel that we're ready.\n",
              "        channel.send({})\n",
              "        if (message.buffers) {\n",
              "          for (const buffer of message.buffers) {\n",
              "            buffers.push(buffer);\n",
              "            downloaded += buffer.byteLength;\n",
              "            progress.value = downloaded;\n",
              "          }\n",
              "        }\n",
              "      }\n",
              "      const blob = new Blob(buffers, {type: 'application/binary'});\n",
              "      const a = document.createElement('a');\n",
              "      a.href = window.URL.createObjectURL(blob);\n",
              "      a.download = filename;\n",
              "      div.appendChild(a);\n",
              "      a.click();\n",
              "      div.remove();\n",
              "    }\n",
              "  "
            ]
          },
          "metadata": {}
        },
        {
          "output_type": "display_data",
          "data": {
            "text/plain": [
              "<IPython.core.display.Javascript object>"
            ],
            "application/javascript": [
              "download(\"download_11b6dad7-fd35-47e6-bf3c-07bb7b7c2c53\", \"bigram_index_dill.pkl\", 5295338)"
            ]
          },
          "metadata": {}
        }
      ]
    },
    {
      "cell_type": "code",
      "source": [
        "import pickle as pkl\n",
        "f2=open(\"bigram_index.pkl\",'rb')\n",
        "bi_new=pkl.load(f2)\n",
        "f2.close()"
      ],
      "metadata": {
        "id": "nFmvBiFRBcjh"
      },
      "execution_count": null,
      "outputs": []
    },
    {
      "cell_type": "code",
      "source": [
        "print(bi_new.index_dict['heated wings'])"
      ],
      "metadata": {
        "colab": {
          "base_uri": "https://localhost:8080/"
        },
        "id": "qGKeeyYCU9Qp",
        "outputId": "fc1fb7dc-b34d-4e98-f25e-167ff902d0ce"
      },
      "execution_count": null,
      "outputs": [
        {
          "output_type": "stream",
          "name": "stdout",
          "text": [
            "[875]\n"
          ]
        }
      ]
    },
    {
      "cell_type": "code",
      "source": [
        "print(bi_new.process_query(\"stressing heated wings\"))"
      ],
      "metadata": {
        "colab": {
          "base_uri": "https://localhost:8080/"
        },
        "id": "Q_FS1uRZhbQQ",
        "outputId": "0d2c390c-d683-45cf-c1d0-a9aab07a078a"
      },
      "execution_count": null,
      "outputs": [
        {
          "output_type": "stream",
          "name": "stdout",
          "text": [
            "({875}, 1, ['cranfield0013'])\n"
          ]
        }
      ]
    }
  ]
}